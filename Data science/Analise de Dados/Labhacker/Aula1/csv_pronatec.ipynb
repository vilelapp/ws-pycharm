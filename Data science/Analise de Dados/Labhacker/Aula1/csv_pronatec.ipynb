{
 "cells": [
  {
   "cell_type": "code",
   "execution_count": 36,
   "metadata": {
    "collapsed": true
   },
   "outputs": [],
   "source": [
    "import pandas as pd"
   ]
  },
  {
   "cell_type": "code",
   "execution_count": 37,
   "outputs": [
    {
     "data": {
      "text/plain": "  SIGLA_INSTITUICAO                        NOME_UNIDADE_ENSINO   ANO  \\\n0              IFAC                     Campus Cruzeiro do Sul  2011   \n1              IFAC                          Campus Rio Branco  2011   \n2              IFAC  Campus Avançado Rio Branco Baixada do Sol  2014   \n3              IFAC                      Campus Sena Madureira  2011   \n4              IFAC                            Campus Tarauac   2013   \n\n  SIGLA_UF_UNIDADE_ENSINO NOME_MUNICIPIO_UNIDADE_ENSINO  \n0                      AC               Cruzeiro do Sul  \n1                      AC                    Rio Branco  \n2                      AC                    Rio Branco  \n3                      AC                Sena Madureira  \n4                      AC                      Tarauac   ",
      "text/html": "<div>\n<style scoped>\n    .dataframe tbody tr th:only-of-type {\n        vertical-align: middle;\n    }\n\n    .dataframe tbody tr th {\n        vertical-align: top;\n    }\n\n    .dataframe thead th {\n        text-align: right;\n    }\n</style>\n<table border=\"1\" class=\"dataframe\">\n  <thead>\n    <tr style=\"text-align: right;\">\n      <th></th>\n      <th>SIGLA_INSTITUICAO</th>\n      <th>NOME_UNIDADE_ENSINO</th>\n      <th>ANO</th>\n      <th>SIGLA_UF_UNIDADE_ENSINO</th>\n      <th>NOME_MUNICIPIO_UNIDADE_ENSINO</th>\n    </tr>\n  </thead>\n  <tbody>\n    <tr>\n      <th>0</th>\n      <td>IFAC</td>\n      <td>Campus Cruzeiro do Sul</td>\n      <td>2011</td>\n      <td>AC</td>\n      <td>Cruzeiro do Sul</td>\n    </tr>\n    <tr>\n      <th>1</th>\n      <td>IFAC</td>\n      <td>Campus Rio Branco</td>\n      <td>2011</td>\n      <td>AC</td>\n      <td>Rio Branco</td>\n    </tr>\n    <tr>\n      <th>2</th>\n      <td>IFAC</td>\n      <td>Campus Avançado Rio Branco Baixada do Sol</td>\n      <td>2014</td>\n      <td>AC</td>\n      <td>Rio Branco</td>\n    </tr>\n    <tr>\n      <th>3</th>\n      <td>IFAC</td>\n      <td>Campus Sena Madureira</td>\n      <td>2011</td>\n      <td>AC</td>\n      <td>Sena Madureira</td>\n    </tr>\n    <tr>\n      <th>4</th>\n      <td>IFAC</td>\n      <td>Campus Tarauac</td>\n      <td>2013</td>\n      <td>AC</td>\n      <td>Tarauac</td>\n    </tr>\n  </tbody>\n</table>\n</div>"
     },
     "execution_count": 37,
     "metadata": {},
     "output_type": "execute_result"
    }
   ],
   "source": [
    "df = pd.read_csv('PDA_2020_Unidades_Rede_Federal_EPCT.csv', sep=';', encoding='cp1252')\n",
    "df.head()"
   ],
   "metadata": {
    "collapsed": false,
    "pycharm": {
     "name": "#%%\n"
    }
   }
  },
  {
   "cell_type": "code",
   "execution_count": 38,
   "outputs": [
    {
     "data": {
      "text/plain": "SIGLA_INSTITUICAO                665\nNOME_UNIDADE_ENSINO              665\nANO                              665\nSIGLA_UF_UNIDADE_ENSINO          665\nNOME_MUNICIPIO_UNIDADE_ENSINO    665\ndtype: int64"
     },
     "execution_count": 38,
     "metadata": {},
     "output_type": "execute_result"
    }
   ],
   "source": [
    "# Quantas escolas no arquivo?\n",
    "df.count()"
   ],
   "metadata": {
    "collapsed": false,
    "pycharm": {
     "name": "#%%\n"
    }
   }
  },
  {
   "cell_type": "code",
   "execution_count": 39,
   "outputs": [
    {
     "data": {
      "text/plain": "SIGLA_INSTITUICAO                object\nNOME_UNIDADE_ENSINO              object\nANO                               int64\nSIGLA_UF_UNIDADE_ENSINO          object\nNOME_MUNICIPIO_UNIDADE_ENSINO    object\ndtype: object"
     },
     "execution_count": 39,
     "metadata": {},
     "output_type": "execute_result"
    }
   ],
   "source": [
    "df.dtypes"
   ],
   "metadata": {
    "collapsed": false,
    "pycharm": {
     "name": "#%%\n"
    }
   }
  },
  {
   "cell_type": "code",
   "execution_count": 40,
   "outputs": [
    {
     "data": {
      "text/plain": "Campus São Carlos                                    2\nCampus Niterói                                       2\nCampus Itabaiana                                     2\nCampus Palmas                                        2\nCampus Santa Inês                                    2\n                                                    ..\nUned Curvelo                                         1\nCampus Diamantina                                    1\nUned Divinópolis                                     1\nCentro de Ensino e Desenvolvimento Agrário da UFV    1\nCampus Porto Nacional                                1\nName: NOME_UNIDADE_ENSINO, Length: 659, dtype: int64"
     },
     "execution_count": 40,
     "metadata": {},
     "output_type": "execute_result"
    }
   ],
   "source": [
    "df['NOME_UNIDADE_ENSINO'].value_counts()"
   ],
   "metadata": {
    "collapsed": false,
    "pycharm": {
     "name": "#%%\n"
    }
   }
  },
  {
   "cell_type": "code",
   "execution_count": 41,
   "outputs": [
    {
     "data": {
      "text/plain": "MG    71\nRJ    50\nRS    44\nSC    38\nPR    37\nSP    37\nBA    37\nCE    34\nMA    30\nGO    27\nRN    25\nPB    25\nPE    24\nPI    23\nES    22\nPA    20\nMT    19\nAL    17\nAM    17\nTO    11\nRO    10\nMS    10\nDF    10\nSE    10\nRR     6\nAC     6\nAP     5\nName: SIGLA_UF_UNIDADE_ENSINO, dtype: int64"
     },
     "execution_count": 41,
     "metadata": {},
     "output_type": "execute_result"
    }
   ],
   "source": [
    "df['SIGLA_UF_UNIDADE_ENSINO'].value_counts()"
   ],
   "metadata": {
    "collapsed": false,
    "pycharm": {
     "name": "#%%\n"
    }
   }
  },
  {
   "cell_type": "code",
   "execution_count": 42,
   "outputs": [
    {
     "data": {
      "text/plain": "<AxesSubplot:>"
     },
     "execution_count": 42,
     "metadata": {},
     "output_type": "execute_result"
    },
    {
     "data": {
      "text/plain": "<Figure size 432x288 with 1 Axes>",
      "image/png": "[encoded data removed]"
     },
     "metadata": {
      "needs_background": "light"
     },
     "output_type": "display_data"
    }
   ],
   "source": [
    "# Mostrar dados em gráfico\n",
    "# Precisamos informar que queremos visualizar o gráfico dentro.\n",
    "%matplotlib inline\n",
    "\n",
    "df['SIGLA_UF_UNIDADE_ENSINO'].value_counts().plot.bar()"
   ],
   "metadata": {
    "collapsed": false,
    "pycharm": {
     "name": "#%%\n"
    }
   }
  }
 ],
 "metadata": {
  "kernelspec": {
   "display_name": "Python 3",
   "language": "python",
   "name": "python3"
  },
  "language_info": {
   "codemirror_mode": {
    "name": "ipython",
    "version": 2
   },
   "file_extension": ".py",
   "mimetype": "text/x-python",
   "name": "python",
   "nbconvert_exporter": "python",
   "pygments_lexer": "ipython2",
   "version": "2.7.6"
  }
 },
 "nbformat": 4,
 "nbformat_minor": 0
}