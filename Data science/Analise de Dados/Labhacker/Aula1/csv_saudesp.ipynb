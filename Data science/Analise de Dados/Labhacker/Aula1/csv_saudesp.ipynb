{
 "cells": [
  {
   "cell_type": "code",
   "execution_count": 81,
   "metadata": {
    "collapsed": true
   },
   "outputs": [],
   "source": [
    "import pandas as pd\n",
    "\n",
    "%matplotlib inline"
   ]
  },
  {
   "cell_type": "code",
   "execution_count": 82,
   "outputs": [
    {
     "data": {
      "text/plain": "   ID      LONG       LAT          SETCENS          AREAP  CODDIST  \\\n0   1 -46490063 -23522787  355030864000052  3550308005143       65   \n1   2 -46773393 -23673297  355030819000016  3550308005232       19   \n2   3 -46651898 -23531575  355030869000001  3550308005027       70   \n\n        DISTRITO  CODSUBPREF             SUBPREF  \\\n0     PONTE RASA          22  ERMELINO MATARAZZO   \n1  CAPAO REDONDO          17         CAMPO LIMPO   \n2  SANTA CECILIA           9                  SE   \n\n                                          ESTABELECI  ...    TELEFONE  \\\n0                 BURGO PAULISTA -AMA ESPECIALIDADES  ...  22800080.0   \n1                 CAPAO REDONDO - AMA ESPECIALIDADES  ...  58742846.0   \n2  HUMBERTO PASCALI,DR STA CECILIA - AMA ESPECIAL...  ...  38260096.0   \n\n         CEP            CNES  SA_DEPADM     DEPADM  SA_TIPO  \\\n0  3680000.0  6393608.000000          1  Municipal       49   \n1  5666000.0  6194974.000000          1  Municipal       49   \n2  1153000.0  6138314.000000          1  Municipal       49   \n\n                 TIPO  SA_CLASSE                       CLASSE  LEITOS  \n0  AMA ESPECIALIDADES          1  AMBULATORIOS ESPECIALIZADOS       0  \n1  AMA ESPECIALIDADES          1  AMBULATORIOS ESPECIALIZADOS       0  \n2  AMA ESPECIALIDADES          1  AMBULATORIOS ESPECIALIZADOS       0  \n\n[3 rows x 22 columns]",
      "text/html": "<div>\n<style scoped>\n    .dataframe tbody tr th:only-of-type {\n        vertical-align: middle;\n    }\n\n    .dataframe tbody tr th {\n        vertical-align: top;\n    }\n\n    .dataframe thead th {\n        text-align: right;\n    }\n</style>\n<table border=\"1\" class=\"dataframe\">\n  <thead>\n    <tr style=\"text-align: right;\">\n      <th></th>\n      <th>ID</th>\n      <th>LONG</th>\n      <th>LAT</th>\n      <th>SETCENS</th>\n      <th>AREAP</th>\n      <th>CODDIST</th>\n      <th>DISTRITO</th>\n      <th>CODSUBPREF</th>\n      <th>SUBPREF</th>\n      <th>ESTABELECI</th>\n      <th>...</th>\n      <th>TELEFONE</th>\n      <th>CEP</th>\n      <th>CNES</th>\n      <th>SA_DEPADM</th>\n      <th>DEPADM</th>\n      <th>SA_TIPO</th>\n      <th>TIPO</th>\n      <th>SA_CLASSE</th>\n      <th>CLASSE</th>\n      <th>LEITOS</th>\n    </tr>\n  </thead>\n  <tbody>\n    <tr>\n      <th>0</th>\n      <td>1</td>\n      <td>-46490063</td>\n      <td>-23522787</td>\n      <td>355030864000052</td>\n      <td>3550308005143</td>\n      <td>65</td>\n      <td>PONTE RASA</td>\n      <td>22</td>\n      <td>ERMELINO MATARAZZO</td>\n      <td>BURGO PAULISTA -AMA ESPECIALIDADES</td>\n      <td>...</td>\n      <td>22800080.0</td>\n      <td>3680000.0</td>\n      <td>6393608.000000</td>\n      <td>1</td>\n      <td>Municipal</td>\n      <td>49</td>\n      <td>AMA ESPECIALIDADES</td>\n      <td>1</td>\n      <td>AMBULATORIOS ESPECIALIZADOS</td>\n      <td>0</td>\n    </tr>\n    <tr>\n      <th>1</th>\n      <td>2</td>\n      <td>-46773393</td>\n      <td>-23673297</td>\n      <td>355030819000016</td>\n      <td>3550308005232</td>\n      <td>19</td>\n      <td>CAPAO REDONDO</td>\n      <td>17</td>\n      <td>CAMPO LIMPO</td>\n      <td>CAPAO REDONDO - AMA ESPECIALIDADES</td>\n      <td>...</td>\n      <td>58742846.0</td>\n      <td>5666000.0</td>\n      <td>6194974.000000</td>\n      <td>1</td>\n      <td>Municipal</td>\n      <td>49</td>\n      <td>AMA ESPECIALIDADES</td>\n      <td>1</td>\n      <td>AMBULATORIOS ESPECIALIZADOS</td>\n      <td>0</td>\n    </tr>\n    <tr>\n      <th>2</th>\n      <td>3</td>\n      <td>-46651898</td>\n      <td>-23531575</td>\n      <td>355030869000001</td>\n      <td>3550308005027</td>\n      <td>70</td>\n      <td>SANTA CECILIA</td>\n      <td>9</td>\n      <td>SE</td>\n      <td>HUMBERTO PASCALI,DR STA CECILIA - AMA ESPECIAL...</td>\n      <td>...</td>\n      <td>38260096.0</td>\n      <td>1153000.0</td>\n      <td>6138314.000000</td>\n      <td>1</td>\n      <td>Municipal</td>\n      <td>49</td>\n      <td>AMA ESPECIALIDADES</td>\n      <td>1</td>\n      <td>AMBULATORIOS ESPECIALIZADOS</td>\n      <td>0</td>\n    </tr>\n  </tbody>\n</table>\n<p>3 rows × 22 columns</p>\n</div>"
     },
     "execution_count": 82,
     "metadata": {},
     "output_type": "execute_result"
    }
   ],
   "source": [
    "df = pd.read_csv('deinfosacadsau2014.csv', sep=',' , encoding='cp1252')\n",
    "df.head(3)"
   ],
   "metadata": {
    "collapsed": false,
    "pycharm": {
     "name": "#%%\n"
    }
   }
  },
  {
   "cell_type": "code",
   "execution_count": 83,
   "outputs": [
    {
     "data": {
      "text/plain": "                ID          LONG           LAT       SETCENS         AREAP  \\\ncount  1467.000000  1.467000e+03  1.467000e+03  1.467000e+03  1.467000e+03   \nmean    734.666667 -4.661058e+07 -2.357443e+07  3.550308e+14  3.550308e+12   \nstd     424.015854  1.233531e+05  8.517972e+04  2.616603e+07  8.976648e+01   \nmin       1.000000 -4.680199e+07 -2.392304e+07  3.550308e+14  3.550308e+12   \n25%     367.500000 -4.670149e+07 -2.362817e+07  3.550308e+14  3.550308e+12   \n50%     735.000000 -4.663655e+07 -2.355906e+07  3.550308e+14  3.550308e+12   \n75%    1101.500000 -4.651427e+07 -2.350950e+07  3.550309e+14  3.550308e+12   \nmax    1468.000000 -4.467158e+07 -2.339904e+07  3.550309e+14  3.550308e+12   \n\n           CODDIST   CODSUBPREF      TELEFONE           CEP    SA_DEPADM  \\\ncount  1467.000000  1467.000000  1.300000e+03  1.391000e+03  1467.000000   \nmean     48.756646    16.310157  4.972486e+07  4.629211e+06     1.252215   \nstd      26.256320     8.641167  1.641466e+07  2.482601e+06     0.771544   \nmin       1.000000     1.000000  1.031900e+06  2.360000e+05     1.000000   \n25%      27.000000     9.000000  3.768226e+07  3.124020e+06     1.000000   \n50%      45.000000    17.000000  5.588363e+07  4.336050e+06     1.000000   \n75%      72.000000    24.000000  6.280320e+07  5.569120e+06     1.000000   \nmax      96.000000    31.000000  8.007714e+07  5.760140e+07     4.000000   \n\n           SA_TIPO    SA_CLASSE       LEITOS  \ncount  1467.000000  1467.000000  1467.000000  \nmean     37.607362     5.301295    11.847307  \nstd      18.117131     2.582979    73.033509  \nmin       1.000000     1.000000     0.000000  \n25%      24.000000     3.000000     0.000000  \n50%      45.000000     5.000000     0.000000  \n75%      48.000000     7.000000     0.000000  \nmax      59.000000     9.000000  1506.000000  ",
      "text/html": "<div>\n<style scoped>\n    .dataframe tbody tr th:only-of-type {\n        vertical-align: middle;\n    }\n\n    .dataframe tbody tr th {\n        vertical-align: top;\n    }\n\n    .dataframe thead th {\n        text-align: right;\n    }\n</style>\n<table border=\"1\" class=\"dataframe\">\n  <thead>\n    <tr style=\"text-align: right;\">\n      <th></th>\n      <th>ID</th>\n      <th>LONG</th>\n      <th>LAT</th>\n      <th>SETCENS</th>\n      <th>AREAP</th>\n      <th>CODDIST</th>\n      <th>CODSUBPREF</th>\n      <th>TELEFONE</th>\n      <th>CEP</th>\n      <th>SA_DEPADM</th>\n      <th>SA_TIPO</th>\n      <th>SA_CLASSE</th>\n      <th>LEITOS</th>\n    </tr>\n  </thead>\n  <tbody>\n    <tr>\n      <th>count</th>\n      <td>1467.000000</td>\n      <td>1.467000e+03</td>\n      <td>1.467000e+03</td>\n      <td>1.467000e+03</td>\n      <td>1.467000e+03</td>\n      <td>1467.000000</td>\n      <td>1467.000000</td>\n      <td>1.300000e+03</td>\n      <td>1.391000e+03</td>\n      <td>1467.000000</td>\n      <td>1467.000000</td>\n      <td>1467.000000</td>\n      <td>1467.000000</td>\n    </tr>\n    <tr>\n      <th>mean</th>\n      <td>734.666667</td>\n      <td>-4.661058e+07</td>\n      <td>-2.357443e+07</td>\n      <td>3.550308e+14</td>\n      <td>3.550308e+12</td>\n      <td>48.756646</td>\n      <td>16.310157</td>\n      <td>4.972486e+07</td>\n      <td>4.629211e+06</td>\n      <td>1.252215</td>\n      <td>37.607362</td>\n      <td>5.301295</td>\n      <td>11.847307</td>\n    </tr>\n    <tr>\n      <th>std</th>\n      <td>424.015854</td>\n      <td>1.233531e+05</td>\n      <td>8.517972e+04</td>\n      <td>2.616603e+07</td>\n      <td>8.976648e+01</td>\n      <td>26.256320</td>\n      <td>8.641167</td>\n      <td>1.641466e+07</td>\n      <td>2.482601e+06</td>\n      <td>0.771544</td>\n      <td>18.117131</td>\n      <td>2.582979</td>\n      <td>73.033509</td>\n    </tr>\n    <tr>\n      <th>min</th>\n      <td>1.000000</td>\n      <td>-4.680199e+07</td>\n      <td>-2.392304e+07</td>\n      <td>3.550308e+14</td>\n      <td>3.550308e+12</td>\n      <td>1.000000</td>\n      <td>1.000000</td>\n      <td>1.031900e+06</td>\n      <td>2.360000e+05</td>\n      <td>1.000000</td>\n      <td>1.000000</td>\n      <td>1.000000</td>\n      <td>0.000000</td>\n    </tr>\n    <tr>\n      <th>25%</th>\n      <td>367.500000</td>\n      <td>-4.670149e+07</td>\n      <td>-2.362817e+07</td>\n      <td>3.550308e+14</td>\n      <td>3.550308e+12</td>\n      <td>27.000000</td>\n      <td>9.000000</td>\n      <td>3.768226e+07</td>\n      <td>3.124020e+06</td>\n      <td>1.000000</td>\n      <td>24.000000</td>\n      <td>3.000000</td>\n      <td>0.000000</td>\n    </tr>\n    <tr>\n      <th>50%</th>\n      <td>735.000000</td>\n      <td>-4.663655e+07</td>\n      <td>-2.355906e+07</td>\n      <td>3.550308e+14</td>\n      <td>3.550308e+12</td>\n      <td>45.000000</td>\n      <td>17.000000</td>\n      <td>5.588363e+07</td>\n      <td>4.336050e+06</td>\n      <td>1.000000</td>\n      <td>45.000000</td>\n      <td>5.000000</td>\n      <td>0.000000</td>\n    </tr>\n    <tr>\n      <th>75%</th>\n      <td>1101.500000</td>\n      <td>-4.651427e+07</td>\n      <td>-2.350950e+07</td>\n      <td>3.550309e+14</td>\n      <td>3.550308e+12</td>\n      <td>72.000000</td>\n      <td>24.000000</td>\n      <td>6.280320e+07</td>\n      <td>5.569120e+06</td>\n      <td>1.000000</td>\n      <td>48.000000</td>\n      <td>7.000000</td>\n      <td>0.000000</td>\n    </tr>\n    <tr>\n      <th>max</th>\n      <td>1468.000000</td>\n      <td>-4.467158e+07</td>\n      <td>-2.339904e+07</td>\n      <td>3.550309e+14</td>\n      <td>3.550308e+12</td>\n      <td>96.000000</td>\n      <td>31.000000</td>\n      <td>8.007714e+07</td>\n      <td>5.760140e+07</td>\n      <td>4.000000</td>\n      <td>59.000000</td>\n      <td>9.000000</td>\n      <td>1506.000000</td>\n    </tr>\n  </tbody>\n</table>\n</div>"
     },
     "execution_count": 83,
     "metadata": {},
     "output_type": "execute_result"
    }
   ],
   "source": [
    "df.describe()"
   ],
   "metadata": {
    "collapsed": false,
    "pycharm": {
     "name": "#%%\n"
    }
   }
  },
  {
   "cell_type": "code",
   "execution_count": 84,
   "outputs": [
    {
     "ename": "KeyError",
     "evalue": "''",
     "output_type": "error",
     "traceback": [
      "\u001B[1;31m---------------------------------------------------------------------------\u001B[0m",
      "\u001B[1;31mKeyError\u001B[0m                                  Traceback (most recent call last)",
      "\u001B[1;32mc:\\users\\crist\\appdata\\local\\programs\\python\\python39\\lib\\site-packages\\pandas\\core\\indexes\\base.py\u001B[0m in \u001B[0;36mget_loc\u001B[1;34m(self, key, method, tolerance)\u001B[0m\n\u001B[0;32m   3360\u001B[0m             \u001B[1;32mtry\u001B[0m\u001B[1;33m:\u001B[0m\u001B[1;33m\u001B[0m\u001B[1;33m\u001B[0m\u001B[0m\n\u001B[1;32m-> 3361\u001B[1;33m                 \u001B[1;32mreturn\u001B[0m \u001B[0mself\u001B[0m\u001B[1;33m.\u001B[0m\u001B[0m_engine\u001B[0m\u001B[1;33m.\u001B[0m\u001B[0mget_loc\u001B[0m\u001B[1;33m(\u001B[0m\u001B[0mcasted_key\u001B[0m\u001B[1;33m)\u001B[0m\u001B[1;33m\u001B[0m\u001B[1;33m\u001B[0m\u001B[0m\n\u001B[0m\u001B[0;32m   3362\u001B[0m             \u001B[1;32mexcept\u001B[0m \u001B[0mKeyError\u001B[0m \u001B[1;32mas\u001B[0m \u001B[0merr\u001B[0m\u001B[1;33m:\u001B[0m\u001B[1;33m\u001B[0m\u001B[1;33m\u001B[0m\u001B[0m\n",
      "\u001B[1;32mc:\\users\\crist\\appdata\\local\\programs\\python\\python39\\lib\\site-packages\\pandas\\_libs\\index.pyx\u001B[0m in \u001B[0;36mpandas._libs.index.IndexEngine.get_loc\u001B[1;34m()\u001B[0m\n",
      "\u001B[1;32mc:\\users\\crist\\appdata\\local\\programs\\python\\python39\\lib\\site-packages\\pandas\\_libs\\index.pyx\u001B[0m in \u001B[0;36mpandas._libs.index.IndexEngine.get_loc\u001B[1;34m()\u001B[0m\n",
      "\u001B[1;32mpandas\\_libs\\hashtable_class_helper.pxi\u001B[0m in \u001B[0;36mpandas._libs.hashtable.PyObjectHashTable.get_item\u001B[1;34m()\u001B[0m\n",
      "\u001B[1;32mpandas\\_libs\\hashtable_class_helper.pxi\u001B[0m in \u001B[0;36mpandas._libs.hashtable.PyObjectHashTable.get_item\u001B[1;34m()\u001B[0m\n",
      "\u001B[1;31mKeyError\u001B[0m: ''",
      "\nThe above exception was the direct cause of the following exception:\n",
      "\u001B[1;31mKeyError\u001B[0m                                  Traceback (most recent call last)",
      "\u001B[1;32m~\\AppData\\Local\\Temp/ipykernel_8268/1103966077.py\u001B[0m in \u001B[0;36m<module>\u001B[1;34m\u001B[0m\n\u001B[1;32m----> 1\u001B[1;33m \u001B[0mdf\u001B[0m\u001B[1;33m[\u001B[0m\u001B[1;34m''\u001B[0m\u001B[1;33m]\u001B[0m\u001B[1;33m\u001B[0m\u001B[1;33m\u001B[0m\u001B[0m\n\u001B[0m",
      "\u001B[1;32mc:\\users\\crist\\appdata\\local\\programs\\python\\python39\\lib\\site-packages\\pandas\\core\\frame.py\u001B[0m in \u001B[0;36m__getitem__\u001B[1;34m(self, key)\u001B[0m\n\u001B[0;32m   3453\u001B[0m             \u001B[1;32mif\u001B[0m \u001B[0mself\u001B[0m\u001B[1;33m.\u001B[0m\u001B[0mcolumns\u001B[0m\u001B[1;33m.\u001B[0m\u001B[0mnlevels\u001B[0m \u001B[1;33m>\u001B[0m \u001B[1;36m1\u001B[0m\u001B[1;33m:\u001B[0m\u001B[1;33m\u001B[0m\u001B[1;33m\u001B[0m\u001B[0m\n\u001B[0;32m   3454\u001B[0m                 \u001B[1;32mreturn\u001B[0m \u001B[0mself\u001B[0m\u001B[1;33m.\u001B[0m\u001B[0m_getitem_multilevel\u001B[0m\u001B[1;33m(\u001B[0m\u001B[0mkey\u001B[0m\u001B[1;33m)\u001B[0m\u001B[1;33m\u001B[0m\u001B[1;33m\u001B[0m\u001B[0m\n\u001B[1;32m-> 3455\u001B[1;33m             \u001B[0mindexer\u001B[0m \u001B[1;33m=\u001B[0m \u001B[0mself\u001B[0m\u001B[1;33m.\u001B[0m\u001B[0mcolumns\u001B[0m\u001B[1;33m.\u001B[0m\u001B[0mget_loc\u001B[0m\u001B[1;33m(\u001B[0m\u001B[0mkey\u001B[0m\u001B[1;33m)\u001B[0m\u001B[1;33m\u001B[0m\u001B[1;33m\u001B[0m\u001B[0m\n\u001B[0m\u001B[0;32m   3456\u001B[0m             \u001B[1;32mif\u001B[0m \u001B[0mis_integer\u001B[0m\u001B[1;33m(\u001B[0m\u001B[0mindexer\u001B[0m\u001B[1;33m)\u001B[0m\u001B[1;33m:\u001B[0m\u001B[1;33m\u001B[0m\u001B[1;33m\u001B[0m\u001B[0m\n\u001B[0;32m   3457\u001B[0m                 \u001B[0mindexer\u001B[0m \u001B[1;33m=\u001B[0m \u001B[1;33m[\u001B[0m\u001B[0mindexer\u001B[0m\u001B[1;33m]\u001B[0m\u001B[1;33m\u001B[0m\u001B[1;33m\u001B[0m\u001B[0m\n",
      "\u001B[1;32mc:\\users\\crist\\appdata\\local\\programs\\python\\python39\\lib\\site-packages\\pandas\\core\\indexes\\base.py\u001B[0m in \u001B[0;36mget_loc\u001B[1;34m(self, key, method, tolerance)\u001B[0m\n\u001B[0;32m   3361\u001B[0m                 \u001B[1;32mreturn\u001B[0m \u001B[0mself\u001B[0m\u001B[1;33m.\u001B[0m\u001B[0m_engine\u001B[0m\u001B[1;33m.\u001B[0m\u001B[0mget_loc\u001B[0m\u001B[1;33m(\u001B[0m\u001B[0mcasted_key\u001B[0m\u001B[1;33m)\u001B[0m\u001B[1;33m\u001B[0m\u001B[1;33m\u001B[0m\u001B[0m\n\u001B[0;32m   3362\u001B[0m             \u001B[1;32mexcept\u001B[0m \u001B[0mKeyError\u001B[0m \u001B[1;32mas\u001B[0m \u001B[0merr\u001B[0m\u001B[1;33m:\u001B[0m\u001B[1;33m\u001B[0m\u001B[1;33m\u001B[0m\u001B[0m\n\u001B[1;32m-> 3363\u001B[1;33m                 \u001B[1;32mraise\u001B[0m \u001B[0mKeyError\u001B[0m\u001B[1;33m(\u001B[0m\u001B[0mkey\u001B[0m\u001B[1;33m)\u001B[0m \u001B[1;32mfrom\u001B[0m \u001B[0merr\u001B[0m\u001B[1;33m\u001B[0m\u001B[1;33m\u001B[0m\u001B[0m\n\u001B[0m\u001B[0;32m   3364\u001B[0m \u001B[1;33m\u001B[0m\u001B[0m\n\u001B[0;32m   3365\u001B[0m         \u001B[1;32mif\u001B[0m \u001B[0mis_scalar\u001B[0m\u001B[1;33m(\u001B[0m\u001B[0mkey\u001B[0m\u001B[1;33m)\u001B[0m \u001B[1;32mand\u001B[0m \u001B[0misna\u001B[0m\u001B[1;33m(\u001B[0m\u001B[0mkey\u001B[0m\u001B[1;33m)\u001B[0m \u001B[1;32mand\u001B[0m \u001B[1;32mnot\u001B[0m \u001B[0mself\u001B[0m\u001B[1;33m.\u001B[0m\u001B[0mhasnans\u001B[0m\u001B[1;33m:\u001B[0m\u001B[1;33m\u001B[0m\u001B[1;33m\u001B[0m\u001B[0m\n",
      "\u001B[1;31mKeyError\u001B[0m: ''"
     ]
    }
   ],
   "source": [
    "df['']"
   ],
   "metadata": {
    "collapsed": false,
    "pycharm": {
     "name": "#%%\n"
    }
   }
  }
 ],
 "metadata": {
  "kernelspec": {
   "display_name": "Python 3",
   "language": "python",
   "name": "python3"
  },
  "language_info": {
   "codemirror_mode": {
    "name": "ipython",
    "version": 2
   },
   "file_extension": ".py",
   "mimetype": "text/x-python",
   "name": "python",
   "nbconvert_exporter": "python",
   "pygments_lexer": "ipython2",
   "version": "2.7.6"
  }
 },
 "nbformat": 4,
 "nbformat_minor": 0
}